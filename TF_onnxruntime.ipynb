{
 "cells": [
  {
   "cell_type": "code",
   "execution_count": 1,
   "metadata": {},
   "outputs": [
    {
     "name": "stdout",
     "output_type": "stream",
     "text": [
      "[1]\n",
      "0:00:00.168426\n",
      "CPU times: user 1.33 s, sys: 1.54 s, total: 2.87 s\n",
      "Wall time: 169 ms\n"
     ]
    }
   ],
   "source": [
    "%%time\n",
    "# Compute the prediction with ONNX Runtime\n",
    "import datetime\n",
    "starttime = datetime.datetime.now()\n",
    "import onnxruntime as rt\n",
    "\n",
    "sess = rt.InferenceSession(\"./model/tf_model.onnx\")\n",
    "input_name = sess.get_inputs()[0].name\n",
    "label_name = sess.get_outputs()[0].name\n",
    "pred_onx = sess.run([label_name], {input_name: [[6.7, 3.1, 4.4, 1.4]]})[0]\n",
    "print(pred_onx.argmax(axis=1))\n",
    "\n",
    "endtime = datetime.datetime.now()\n",
    "print(endtime - starttime)"
   ]
  },
  {
   "cell_type": "code",
   "execution_count": 5,
   "metadata": {},
   "outputs": [
    {
     "name": "stdout",
     "output_type": "stream",
     "text": [
      "[1]\n",
      "0.004055976867675781\n",
      "CPU times: user 34.7 ms, sys: 0 ns, total: 34.7 ms\n",
      "Wall time: 4.18 ms\n"
     ]
    }
   ],
   "source": [
    "%%time\n",
    "# Compute the prediction with ONNX Runtime\n",
    "import time\n",
    "starttime = time.time()\n",
    "import onnxruntime as rt\n",
    "\n",
    "\n",
    "sess = rt.InferenceSession(\"./model/tf_model.onnx\")\n",
    "input_name = sess.get_inputs()[0].name\n",
    "label_name = sess.get_outputs()[0].name\n",
    "pred_onx = sess.run([label_name], {input_name: [[6.7, 3.1, 4.4, 1.4]]})[0]\n",
    "print(pred_onx.argmax(axis=1))\n",
    "\n",
    "endtime = time.time()\n",
    "print(str(endtime - starttime))"
   ]
  },
  {
   "cell_type": "code",
   "execution_count": 6,
   "metadata": {},
   "outputs": [
    {
     "name": "stdout",
     "output_type": "stream",
     "text": [
      "ERROR: Could not find file <ipython-input-6-9fb62b46d9b0>\n",
      "NOTE: %mprun can only be used on functions defined in physical files, and not in the IPython environment.\n",
      "[1]\n",
      "ERROR: Could not find file <ipython-input-6-9fb62b46d9b0>\n",
      "NOTE: %mprun can only be used on functions defined in physical files, and not in the IPython environment.\n",
      "[1]\n",
      "ERROR: Could not find file <ipython-input-6-9fb62b46d9b0>\n",
      "NOTE: %mprun can only be used on functions defined in physical files, and not in the IPython environment.\n",
      "[1]\n",
      "peak memory: 79.54 MiB, increment: 0.92 MiB\n"
     ]
    }
   ],
   "source": [
    "%reload_ext memory_profiler\n",
    "from memory_profiler import profile\n",
    "\n",
    "@profile\n",
    "def call():\n",
    "    sess = rt.InferenceSession(\"./model/tf_model.onnx\")\n",
    "    input_name = sess.get_inputs()[0].name\n",
    "    label_name = sess.get_outputs()[0].name\n",
    "    pred_onx = sess.run([label_name], {input_name: [[6.7, 3.1, 4.4, 1.4]]})[0]\n",
    "    print(pred_onx.argmax(axis=1))\n",
    "    \n",
    "%memit call()"
   ]
  },
  {
   "cell_type": "code",
   "execution_count": null,
   "metadata": {},
   "outputs": [],
   "source": []
  }
 ],
 "metadata": {
  "kernelspec": {
   "display_name": "Python 3",
   "language": "python",
   "name": "python3"
  },
  "language_info": {
   "codemirror_mode": {
    "name": "ipython",
    "version": 3
   },
   "file_extension": ".py",
   "mimetype": "text/x-python",
   "name": "python",
   "nbconvert_exporter": "python",
   "pygments_lexer": "ipython3",
   "version": "3.7.6"
  }
 },
 "nbformat": 4,
 "nbformat_minor": 4
}
