{
 "cells": [
  {
   "cell_type": "markdown",
   "metadata": {},
   "source": [
    "## TensorFlow 輸出 ONNX 並使用 ONNX Runtime 運行\n",
    "在本範例中，我們將訓練好的 iris DNN 分類模型輸出成 ONNX 格式，並在 Python ONNX Runtime 中執行推論。ONNX Runtime 是高效能的推斷引擎，可將 ONNX 模型部署到生產環境，可在多個平台(Windows、Linux、Mac)和硬體(CPU 和 GPU)高效地進行推理。ONNX 擺脫原本神經網路框架，並使用 ONNX Runtime 可大大提高多個模型的性能。"
   ]
  },
  {
   "cell_type": "code",
   "execution_count": 1,
   "metadata": {},
   "outputs": [],
   "source": [
    "import warnings\n",
    "import pandas as pd\n",
    "import numpy as np\n",
    "import matplotlib.pyplot as plt\n",
    "warnings.filterwarnings(\"ignore\")"
   ]
  },
  {
   "cell_type": "code",
   "execution_count": 2,
   "metadata": {},
   "outputs": [],
   "source": [
    "# 設定亂數種子數值\n",
    "seed_value= 4\n",
    "# 1. 設定 Python 環境變數亂數種子\n",
    "import os\n",
    "os.environ['PYTHONHASHSEED']=str(seed_value)\n",
    "# 2. 設定 Python 內建亂數生成器亂數種子\n",
    "import random\n",
    "random.seed(seed_value)\n",
    "# 3. 設定 Numpy 亂數種子\n",
    "import numpy as np\n",
    "np.random.seed(seed_value)\n",
    "# 4. 設定 TensorFlow 亂數種子\n",
    "import tensorflow as tf\n",
    "tf.random.set_seed(seed_value)"
   ]
  },
  {
   "cell_type": "markdown",
   "metadata": {},
   "source": [
    "## 1) 載入資料集"
   ]
  },
  {
   "cell_type": "code",
   "execution_count": 3,
   "metadata": {},
   "outputs": [
    {
     "name": "stdout",
     "output_type": "stream",
     "text": [
      "X 資料:  (150, 4)\n",
      "y 資料:  (150,)\n"
     ]
    }
   ],
   "source": [
    "from sklearn.datasets import load_iris\n",
    "from sklearn.model_selection import train_test_split\n",
    "from sklearn.ensemble import RandomForestClassifier\n",
    "\n",
    "iris = load_iris()\n",
    "X, y = iris.data, iris.target\n",
    "\n",
    "print('X 資料: ',X.shape)\n",
    "print('y 資料: ',y.shape)"
   ]
  },
  {
   "cell_type": "code",
   "execution_count": 10,
   "metadata": {},
   "outputs": [
    {
     "data": {
      "text/plain": [
       "array([5.1, 3.5, 1.4, 0.2])"
      ]
     },
     "execution_count": 10,
     "metadata": {},
     "output_type": "execute_result"
    }
   ],
   "source": [
    "X[0]"
   ]
  },
  {
   "cell_type": "markdown",
   "metadata": {
    "tags": []
   },
   "source": [
    "## 2) 將輸出特徵做one-hot encoding\n",
    "class 的值有 0,1,2"
   ]
  },
  {
   "cell_type": "code",
   "execution_count": 20,
   "metadata": {},
   "outputs": [
    {
     "data": {
      "text/plain": [
       "array([[1., 0., 0.],\n",
       "       [1., 0., 0.],\n",
       "       [1., 0., 0.],\n",
       "       [1., 0., 0.],\n",
       "       [1., 0., 0.]], dtype=float32)"
      ]
     },
     "execution_count": 20,
     "metadata": {},
     "output_type": "execute_result"
    }
   ],
   "source": [
    "from tensorflow.keras.utils import to_categorical\n",
    "y_categorical = to_categorical(y)\n",
    "y_categorical[0:5]"
   ]
  },
  {
   "cell_type": "markdown",
   "metadata": {},
   "source": [
    "## 3) 切割訓練集與測試集"
   ]
  },
  {
   "cell_type": "code",
   "execution_count": 21,
   "metadata": {},
   "outputs": [
    {
     "name": "stdout",
     "output_type": "stream",
     "text": [
      "訓練資料:  (112, 4)\n",
      "測試資料:  (38, 4)\n"
     ]
    }
   ],
   "source": [
    "X_train, X_test, y_train, y_test = train_test_split(X, y_categorical, test_size=0.25 , random_state=40)\n",
    "\n",
    "print('訓練資料: ',X_train.shape)\n",
    "print('測試資料: ',X_test.shape)"
   ]
  },
  {
   "cell_type": "markdown",
   "metadata": {},
   "source": [
    "## 4) 建立網路模型"
   ]
  },
  {
   "cell_type": "code",
   "execution_count": 22,
   "metadata": {},
   "outputs": [
    {
     "name": "stdout",
     "output_type": "stream",
     "text": [
      "2.3.1\n"
     ]
    }
   ],
   "source": [
    "import tensorflow as tf\n",
    "from tensorflow.keras.layers import Dense, Activation\n",
    "from tensorflow.keras import Sequential\n",
    "from tensorflow.keras.optimizers import Adam\n",
    "\n",
    "print(tf.__version__)"
   ]
  },
  {
   "cell_type": "code",
   "execution_count": 23,
   "metadata": {},
   "outputs": [],
   "source": [
    "# 此範例使用 Tensorflow2.0 Sequential API 搭建神經網路。\n",
    "tf.keras.backend.clear_session() # 清空網路暫存\n",
    "model = Sequential()\n",
    "model.add(Dense(8, Activation('relu'), input_dim=X.shape[-1], name='tensor'))\n",
    "model.add(Dense(16, Activation('relu'), name='dense_1'))\n",
    "model.add(Dense(3, Activation('softmax'), name='tensor_output'))"
   ]
  },
  {
   "cell_type": "code",
   "execution_count": 25,
   "metadata": {},
   "outputs": [
    {
     "name": "stdout",
     "output_type": "stream",
     "text": [
      "Model: \"sequential\"\n",
      "_________________________________________________________________\n",
      "Layer (type)                 Output Shape              Param #   \n",
      "=================================================================\n",
      "tensor (Dense)               (None, 8)                 40        \n",
      "_________________________________________________________________\n",
      "dense_1 (Dense)              (None, 16)                144       \n",
      "_________________________________________________________________\n",
      "tensor_output (Dense)        (None, 3)                 51        \n",
      "=================================================================\n",
      "Total params: 235\n",
      "Trainable params: 235\n",
      "Non-trainable params: 0\n",
      "_________________________________________________________________\n"
     ]
    }
   ],
   "source": [
    "model.summary()   # Weights = (4+1)*8+(8+1)*16+(16+1)*3 = 235"
   ]
  },
  {
   "cell_type": "code",
   "execution_count": 26,
   "metadata": {},
   "outputs": [
    {
     "name": "stdout",
     "output_type": "stream",
     "text": [
      "Epoch 1/20\n",
      "100/100 [==============================] - 0s 2ms/step - loss: 1.9168 - acc: 0.3000 - val_loss: 0.9972 - val_acc: 0.5833\n",
      "Epoch 2/20\n",
      "100/100 [==============================] - 0s 616us/step - loss: 1.1691 - acc: 0.1700 - val_loss: 1.1654 - val_acc: 0.0000e+00\n",
      "Epoch 3/20\n",
      "100/100 [==============================] - 0s 653us/step - loss: 1.1114 - acc: 0.3300 - val_loss: 1.1082 - val_acc: 0.0833\n",
      "Epoch 4/20\n",
      "100/100 [==============================] - 0s 629us/step - loss: 1.0760 - acc: 0.3600 - val_loss: 1.1543 - val_acc: 0.0833\n",
      "Epoch 5/20\n",
      "100/100 [==============================] - 0s 613us/step - loss: 1.0378 - acc: 0.3800 - val_loss: 1.1300 - val_acc: 0.0833\n",
      "Epoch 6/20\n",
      "100/100 [==============================] - 0s 639us/step - loss: 1.0025 - acc: 0.5100 - val_loss: 1.1559 - val_acc: 0.0833\n",
      "Epoch 7/20\n",
      "100/100 [==============================] - 0s 647us/step - loss: 0.9489 - acc: 0.6600 - val_loss: 1.0994 - val_acc: 0.4167\n",
      "Epoch 8/20\n",
      "100/100 [==============================] - 0s 661us/step - loss: 0.8867 - acc: 0.7000 - val_loss: 0.9559 - val_acc: 0.4167\n",
      "Epoch 9/20\n",
      "100/100 [==============================] - 0s 663us/step - loss: 0.8036 - acc: 0.7000 - val_loss: 0.9632 - val_acc: 0.4167\n",
      "Epoch 10/20\n",
      "100/100 [==============================] - 0s 689us/step - loss: 0.7316 - acc: 0.7400 - val_loss: 0.8279 - val_acc: 0.4167\n",
      "Epoch 11/20\n",
      "100/100 [==============================] - 0s 579us/step - loss: 0.6562 - acc: 0.7200 - val_loss: 0.7706 - val_acc: 0.4167\n",
      "Epoch 12/20\n",
      "100/100 [==============================] - 0s 599us/step - loss: 0.5847 - acc: 0.8700 - val_loss: 0.7527 - val_acc: 0.4167\n",
      "Epoch 13/20\n",
      "100/100 [==============================] - 0s 601us/step - loss: 0.5367 - acc: 0.7600 - val_loss: 0.6512 - val_acc: 0.6667\n",
      "Epoch 14/20\n",
      "100/100 [==============================] - 0s 601us/step - loss: 0.4811 - acc: 0.8200 - val_loss: 0.5788 - val_acc: 0.6667\n",
      "Epoch 15/20\n",
      "100/100 [==============================] - 0s 604us/step - loss: 0.4428 - acc: 0.8500 - val_loss: 0.5315 - val_acc: 0.6667\n",
      "Epoch 16/20\n",
      "100/100 [==============================] - 0s 584us/step - loss: 0.4071 - acc: 0.9400 - val_loss: 0.5223 - val_acc: 0.6667\n",
      "Epoch 17/20\n",
      "100/100 [==============================] - 0s 601us/step - loss: 0.3727 - acc: 0.9200 - val_loss: 0.5260 - val_acc: 0.6667\n",
      "Epoch 18/20\n",
      "100/100 [==============================] - 0s 651us/step - loss: 0.3419 - acc: 0.9600 - val_loss: 0.4311 - val_acc: 0.8333\n",
      "Epoch 19/20\n",
      "100/100 [==============================] - 0s 612us/step - loss: 0.3075 - acc: 0.9800 - val_loss: 0.4500 - val_acc: 0.7500\n",
      "Epoch 20/20\n",
      "100/100 [==============================] - 0s 615us/step - loss: 0.2844 - acc: 0.9400 - val_loss: 0.2898 - val_acc: 0.9167\n"
     ]
    }
   ],
   "source": [
    "# 編譯模型\n",
    "optim = Adam(lr=0.001)\n",
    "model.compile(loss='categorical_crossentropy',\n",
    "              optimizer=optim,\n",
    "              metrics=['acc'])\n",
    "\n",
    "batch_size=1\n",
    "epochs = 20\n",
    "\n",
    "# 訓練模型\n",
    "history = model.fit(X_train, y_train,\n",
    "                    batch_size=batch_size,\n",
    "                    epochs=epochs,\n",
    "                    verbose=1,\n",
    "                    shuffle=True,\n",
    "                    validation_split=0.1)\n"
   ]
  },
  {
   "cell_type": "markdown",
   "metadata": {},
   "source": [
    "## 6) 觀察訓練結果"
   ]
  },
  {
   "cell_type": "code",
   "execution_count": 27,
   "metadata": {},
   "outputs": [],
   "source": [
    "import matplotlib.pyplot as plt\n",
    "\n",
    "history_dict = history.history\n",
    "history_dict.keys()\n",
    "acc = history_dict['acc']\n",
    "val_acc = history_dict['val_acc']\n",
    "loss = history_dict['loss']\n",
    "val_loss = history_dict['val_loss']\n",
    "epochs_ = range(1,len(acc)+1)"
   ]
  },
  {
   "cell_type": "code",
   "execution_count": 28,
   "metadata": {},
   "outputs": [
    {
     "data": {
      "image/png": "[encoded data removed]",
      "text/plain": [
       "<Figure size 432x288 with 1 Axes>"
      ]
     },
     "metadata": {
      "needs_background": "light"
     },
     "output_type": "display_data"
    }
   ],
   "source": [
    "plt.plot(epochs_ , loss , label = 'training loss')\n",
    "plt.plot(epochs_ , val_loss , label = 'val los')\n",
    "plt.title('training and val loss')\n",
    "plt.xlabel('epochs')\n",
    "plt.ylabel('loss')\n",
    "plt.legend()\n",
    "plt.show()"
   ]
  },
  {
   "cell_type": "code",
   "execution_count": 29,
   "metadata": {},
   "outputs": [
    {
     "data": {
      "image/png": "[encoded data removed]",
      "text/plain": [
       "<Figure size 432x288 with 1 Axes>"
      ]
     },
     "metadata": {
      "needs_background": "light"
     },
     "output_type": "display_data"
    }
   ],
   "source": [
    "plt.clf()\n",
    "plt.plot(epochs_ , acc , label='train accuracy')\n",
    "plt.plot(epochs_ , val_acc , label = 'val accuracy')\n",
    "plt.title('train and val acc')\n",
    "plt.xlabel('epochs')\n",
    "plt.ylabel('acc')\n",
    "plt.legend()\n",
    "plt.show()"
   ]
  },
  {
   "cell_type": "markdown",
   "metadata": {},
   "source": [
    "## 7) 測試集測試"
   ]
  },
  {
   "cell_type": "code",
   "execution_count": 31,
   "metadata": {},
   "outputs": [
    {
     "name": "stdout",
     "output_type": "stream",
     "text": [
      "0.9736842105263158\n"
     ]
    }
   ],
   "source": [
    "from sklearn.metrics import accuracy_score\n",
    "\n",
    "label=np.argmax(y_test,axis=1)\n",
    "pred =  np.argmax(model.predict(X_test), axis=1)\n",
    "print(accuracy_score(label, pred))"
   ]
  },
  {
   "cell_type": "markdown",
   "metadata": {},
   "source": [
    "## 8) 輸出 ONNX"
   ]
  },
  {
   "cell_type": "code",
   "execution_count": 119,
   "metadata": {},
   "outputs": [
    {
     "name": "stderr",
     "output_type": "stream",
     "text": [
      "2022-08-06 13:09:49.423611: I tensorflow/core/grappler/devices.cc:75] Number of eligible GPUs (core count >= 8, compute capability >= 0.0): 0 (Note: TensorFlow was not compiled with CUDA or ROCm support)\n",
      "2022-08-06 13:09:49.449290: I tensorflow/core/grappler/devices.cc:75] Number of eligible GPUs (core count >= 8, compute capability >= 0.0): 0 (Note: TensorFlow was not compiled with CUDA or ROCm support)\n"
     ]
    }
   ],
   "source": [
    "import tf2onnx\n",
    "import onnx\n",
    "# input_signature = [tf.TensorSpec([6.7, 3.1, 4.4, 1.4], tf.float32, name='x')]\n",
    "onnx_model, _ = tf2onnx.convert.from_keras(model, opset=13)\n",
    "onnx.save(onnx_model, \"./model/tf_model.onnx\")"
   ]
  },
  {
   "cell_type": "markdown",
   "metadata": {},
   "source": [
    "## Python ONNX Runtime 進行推論"
   ]
  },
  {
   "cell_type": "code",
   "execution_count": 9,
   "metadata": {},
   "outputs": [
    {
     "name": "stdout",
     "output_type": "stream",
     "text": [
      "[1]\n"
     ]
    }
   ],
   "source": [
    "# Compute the prediction with ONNX Runtime\n",
    "import onnxruntime as rt\n",
    "\n",
    "sess = rt.InferenceSession(\"./model/tf_model.onnx\")\n",
    "input_name = sess.get_inputs()[0].name\n",
    "label_name = sess.get_outputs()[0].name\n",
    "pred_onx = sess.run([label_name], {input_name: [[6.7, 3.1, 4.4, 1.4]]})[0]\n",
    "print(pred_onx.argmax(axis=1))"
   ]
  },
  {
   "cell_type": "code",
   "execution_count": 10,
   "metadata": {},
   "outputs": [
    {
     "name": "stdout",
     "output_type": "stream",
     "text": [
      "[2]\n"
     ]
    }
   ],
   "source": [
    "pred_onx = sess.run([label_name], {input_name: [[6.4, 3.2, 5.3, 2.3]]})[0]\n",
    "print(pred_onx.argmax(axis=1))"
   ]
  },
  {
   "cell_type": "markdown",
   "metadata": {},
   "source": [
    "![](https://i.imgur.com/Xvgrzmy.png)\n",
    "\n",
    "https://tmrmds.co/article-business/18290/?fbclid=IwAR3YzL3-GLjrZ_byFZ3ac43M1ttY01HC_SAjN84JtvoNUZQifTFqIIYBISk"
   ]
  },
  {
   "cell_type": "code",
   "execution_count": null,
   "metadata": {},
   "outputs": [],
   "source": []
  }
 ],
 "metadata": {
  "kernelspec": {
   "display_name": "Python 3",
   "language": "python",
   "name": "python3"
  },
  "language_info": {
   "codemirror_mode": {
    "name": "ipython",
    "version": 3
   },
   "file_extension": ".py",
   "mimetype": "text/x-python",
   "name": "python",
   "nbconvert_exporter": "python",
   "pygments_lexer": "ipython3",
   "version": "3.7.6"
  }
 },
 "nbformat": 4,
 "nbformat_minor": 4
}
