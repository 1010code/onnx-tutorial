{
 "cells": [
  {
   "cell_type": "code",
   "execution_count": 90,
   "metadata": {},
   "outputs": [],
   "source": [
    "import warnings\n",
    "import pandas as pd\n",
    "import numpy as np\n",
    "import matplotlib.pyplot as plt\n",
    "warnings.filterwarnings(\"ignore\")"
   ]
  },
  {
   "cell_type": "code",
   "execution_count": 91,
   "metadata": {},
   "outputs": [],
   "source": [
    "# 設定亂數種子數值\n",
    "seed_value= 4\n",
    "# 1. 設定 Python 環境變數亂數種子\n",
    "import os\n",
    "os.environ['PYTHONHASHSEED']=str(seed_value)\n",
    "# 2. 設定 Python 內建亂數生成器亂數種子\n",
    "import random\n",
    "random.seed(seed_value)\n",
    "# 3. 設定 Numpy 亂數種子\n",
    "import numpy as np\n",
    "np.random.seed(seed_value)\n",
    "# 4. 設定 TensorFlow 亂數種子\n",
    "import tensorflow as tf\n",
    "tf.random.set_seed(seed_value)"
   ]
  },
  {
   "cell_type": "markdown",
   "metadata": {},
   "source": [
    "## 1) 載入資料集"
   ]
  },
  {
   "cell_type": "code",
   "execution_count": 92,
   "metadata": {},
   "outputs": [
    {
     "name": "stdout",
     "output_type": "stream",
     "text": [
      "X 資料:  (150, 4)\n",
      "y 資料:  (150,)\n"
     ]
    }
   ],
   "source": [
    "from sklearn.datasets import load_iris\n",
    "from sklearn.model_selection import train_test_split\n",
    "from sklearn.ensemble import RandomForestClassifier\n",
    "\n",
    "iris = load_iris()\n",
    "X, y = iris.data, iris.target\n",
    "\n",
    "print('X 資料: ',X.shape)\n",
    "print('y 資料: ',y.shape)"
   ]
  },
  {
   "cell_type": "markdown",
   "metadata": {
    "tags": []
   },
   "source": [
    "## 2) 將輸出特徵做one-hot encoding\n",
    "class 的值有 0,1,2"
   ]
  },
  {
   "cell_type": "code",
   "execution_count": 93,
   "metadata": {},
   "outputs": [
    {
     "data": {
      "text/plain": [
       "array([[1., 0., 0.],\n",
       "       [1., 0., 0.],\n",
       "       [1., 0., 0.],\n",
       "       [1., 0., 0.],\n",
       "       [1., 0., 0.]], dtype=float32)"
      ]
     },
     "execution_count": 93,
     "metadata": {},
     "output_type": "execute_result"
    }
   ],
   "source": [
    "from tensorflow.keras.utils import to_categorical\n",
    "y_categorical = to_categorical(y)\n",
    "y_categorical[0:5]"
   ]
  },
  {
   "cell_type": "markdown",
   "metadata": {},
   "source": [
    "## 3) 切割訓練集與測試集"
   ]
  },
  {
   "cell_type": "code",
   "execution_count": 94,
   "metadata": {},
   "outputs": [
    {
     "name": "stdout",
     "output_type": "stream",
     "text": [
      "訓練資料:  (112, 4)\n",
      "測試資料:  (38, 4)\n"
     ]
    }
   ],
   "source": [
    "X_train, X_test, y_train, y_test = train_test_split(X, y_categorical, test_size=0.25 , random_state=40)\n",
    "\n",
    "print('訓練資料: ',X_train.shape)\n",
    "print('測試資料: ',X_test.shape)"
   ]
  },
  {
   "cell_type": "markdown",
   "metadata": {},
   "source": [
    "## 2) 建立網路模型"
   ]
  },
  {
   "cell_type": "code",
   "execution_count": 95,
   "metadata": {},
   "outputs": [
    {
     "name": "stdout",
     "output_type": "stream",
     "text": [
      "2.9.1\n"
     ]
    }
   ],
   "source": [
    "import tensorflow as tf\n",
    "from tensorflow.keras.layers import Dense, Activation\n",
    "from tensorflow.keras import Sequential\n",
    "from tensorflow.keras.optimizers import Adam\n",
    "\n",
    "print(tf.__version__)"
   ]
  },
  {
   "cell_type": "code",
   "execution_count": 116,
   "metadata": {},
   "outputs": [],
   "source": [
    "# 此範例使用 Tensorflow2.0 Sequential API 搭建神經網路。\n",
    "tf.keras.backend.clear_session() # 清空網路暫存\n",
    "model = Sequential()\n",
    "model.add(Dense(8, Activation('relu'), input_dim=X.shape[-1], name='tensor'))\n",
    "model.add(Dense(16, Activation('relu'), name='dense_1'))\n",
    "model.add(Dense(3, Activation('softmax'), name='tensor_output'))"
   ]
  },
  {
   "cell_type": "code",
   "execution_count": 117,
   "metadata": {},
   "outputs": [
    {
     "name": "stdout",
     "output_type": "stream",
     "text": [
      "Model: \"sequential\"\n",
      "_________________________________________________________________\n",
      " Layer (type)                Output Shape              Param #   \n",
      "=================================================================\n",
      " tensor (Dense)              (None, 8)                 40        \n",
      "                                                                 \n",
      " dense_1 (Dense)             (None, 16)                144       \n",
      "                                                                 \n",
      " tensor_output (Dense)       (None, 3)                 51        \n",
      "                                                                 \n",
      "=================================================================\n",
      "Total params: 235\n",
      "Trainable params: 235\n",
      "Non-trainable params: 0\n",
      "_________________________________________________________________\n"
     ]
    }
   ],
   "source": [
    "model.summary()   # Weights = (4+1)*8+(8+1)*16+(16+1)*3"
   ]
  },
  {
   "cell_type": "code",
   "execution_count": 118,
   "metadata": {},
   "outputs": [
    {
     "name": "stdout",
     "output_type": "stream",
     "text": [
      "Epoch 1/20\n",
      "100/100 [==============================] - 0s 2ms/step - loss: 1.6046 - acc: 0.3800 - val_loss: 1.7886 - val_acc: 0.0833\n",
      "Epoch 2/20\n",
      "100/100 [==============================] - 0s 866us/step - loss: 1.1338 - acc: 0.3800 - val_loss: 1.3895 - val_acc: 0.0833\n",
      "Epoch 3/20\n",
      "100/100 [==============================] - 0s 825us/step - loss: 0.9998 - acc: 0.4800 - val_loss: 1.2050 - val_acc: 0.4167\n",
      "Epoch 4/20\n",
      "100/100 [==============================] - 0s 853us/step - loss: 0.9119 - acc: 0.7000 - val_loss: 1.1093 - val_acc: 0.4167\n",
      "Epoch 5/20\n",
      "100/100 [==============================] - 0s 835us/step - loss: 0.8306 - acc: 0.7000 - val_loss: 1.0355 - val_acc: 0.4167\n",
      "Epoch 6/20\n",
      "100/100 [==============================] - 0s 842us/step - loss: 0.7548 - acc: 0.7000 - val_loss: 0.9758 - val_acc: 0.4167\n",
      "Epoch 7/20\n",
      "100/100 [==============================] - 0s 858us/step - loss: 0.6840 - acc: 0.7000 - val_loss: 0.9093 - val_acc: 0.4167\n",
      "Epoch 8/20\n",
      "100/100 [==============================] - 0s 854us/step - loss: 0.6301 - acc: 0.7000 - val_loss: 0.8329 - val_acc: 0.4167\n",
      "Epoch 9/20\n",
      "100/100 [==============================] - 0s 956us/step - loss: 0.5830 - acc: 0.7000 - val_loss: 0.8027 - val_acc: 0.4167\n",
      "Epoch 10/20\n",
      "100/100 [==============================] - 0s 941us/step - loss: 0.5480 - acc: 0.7000 - val_loss: 0.7301 - val_acc: 0.4167\n",
      "Epoch 11/20\n",
      "100/100 [==============================] - 0s 777us/step - loss: 0.5172 - acc: 0.7000 - val_loss: 0.7051 - val_acc: 0.4167\n",
      "Epoch 12/20\n",
      "100/100 [==============================] - 0s 852us/step - loss: 0.4922 - acc: 0.7000 - val_loss: 0.6646 - val_acc: 0.4167\n",
      "Epoch 13/20\n",
      "100/100 [==============================] - 0s 844us/step - loss: 0.4713 - acc: 0.7000 - val_loss: 0.6198 - val_acc: 0.4167\n",
      "Epoch 14/20\n",
      "100/100 [==============================] - 0s 985us/step - loss: 0.4520 - acc: 0.7100 - val_loss: 0.5820 - val_acc: 0.4167\n",
      "Epoch 15/20\n",
      "100/100 [==============================] - 0s 844us/step - loss: 0.4347 - acc: 0.7300 - val_loss: 0.5636 - val_acc: 0.4167\n",
      "Epoch 16/20\n",
      "100/100 [==============================] - 0s 917us/step - loss: 0.4034 - acc: 0.8600 - val_loss: 0.4869 - val_acc: 0.6667\n",
      "Epoch 17/20\n",
      "100/100 [==============================] - 0s 961us/step - loss: 0.3722 - acc: 0.8900 - val_loss: 0.5131 - val_acc: 0.6667\n",
      "Epoch 18/20\n",
      "100/100 [==============================] - 0s 875us/step - loss: 0.3456 - acc: 0.9200 - val_loss: 0.4465 - val_acc: 0.7500\n",
      "Epoch 19/20\n",
      "100/100 [==============================] - 0s 869us/step - loss: 0.3202 - acc: 0.9400 - val_loss: 0.4762 - val_acc: 0.6667\n",
      "Epoch 20/20\n",
      "100/100 [==============================] - 0s 757us/step - loss: 0.3040 - acc: 0.9100 - val_loss: 0.3086 - val_acc: 0.9167\n"
     ]
    }
   ],
   "source": [
    "# 編譯模型\n",
    "optim = Adam(lr=0.001)\n",
    "model.compile(loss='categorical_crossentropy',\n",
    "              optimizer=optim,\n",
    "              metrics=['acc'])\n",
    "\n",
    "batch_size=1\n",
    "epochs = 20\n",
    "\n",
    "# 訓練模型\n",
    "history = model.fit(X_train, y_train,\n",
    "                    batch_size=batch_size,\n",
    "                    epochs=epochs,\n",
    "                    verbose=1,\n",
    "                    shuffle=True,\n",
    "                    validation_split=0.1)\n"
   ]
  },
  {
   "cell_type": "code",
   "execution_count": 119,
   "metadata": {},
   "outputs": [
    {
     "name": "stderr",
     "output_type": "stream",
     "text": [
      "2022-08-06 13:09:49.423611: I tensorflow/core/grappler/devices.cc:75] Number of eligible GPUs (core count >= 8, compute capability >= 0.0): 0 (Note: TensorFlow was not compiled with CUDA or ROCm support)\n",
      "2022-08-06 13:09:49.449290: I tensorflow/core/grappler/devices.cc:75] Number of eligible GPUs (core count >= 8, compute capability >= 0.0): 0 (Note: TensorFlow was not compiled with CUDA or ROCm support)\n"
     ]
    }
   ],
   "source": [
    "import tf2onnx\n",
    "import onnx\n",
    "# input_signature = [tf.TensorSpec([6.7, 3.1, 4.4, 1.4], tf.float32, name='x')]\n",
    "onnx_model, _ = tf2onnx.convert.from_keras(model, opset=13)\n",
    "onnx.save(onnx_model, \"./model/tf_model.onnx\")"
   ]
  },
  {
   "cell_type": "code",
   "execution_count": 120,
   "metadata": {},
   "outputs": [
    {
     "name": "stdout",
     "output_type": "stream",
     "text": [
      "[1]\n"
     ]
    }
   ],
   "source": [
    "# Compute the prediction with ONNX Runtime\n",
    "import onnxruntime as rt\n",
    "\n",
    "sess = rt.InferenceSession(\"./model/tf_model.onnx\")\n",
    "input_name = sess.get_inputs()[0].name\n",
    "label_name = sess.get_outputs()[0].name\n",
    "pred_onx = sess.run([label_name], {input_name: [[6.7, 3.1, 4.4, 1.4]]})[0]\n",
    "print(pred_onx.argmax(axis=1))"
   ]
  },
  {
   "cell_type": "code",
   "execution_count": 121,
   "metadata": {},
   "outputs": [
    {
     "data": {
      "text/plain": [
       "'tensor_input'"
      ]
     },
     "execution_count": 121,
     "metadata": {},
     "output_type": "execute_result"
    }
   ],
   "source": [
    "input_name"
   ]
  },
  {
   "cell_type": "code",
   "execution_count": 122,
   "metadata": {},
   "outputs": [
    {
     "data": {
      "text/plain": [
       "'tensor_output'"
      ]
     },
     "execution_count": 122,
     "metadata": {},
     "output_type": "execute_result"
    }
   ],
   "source": [
    "label_name"
   ]
  },
  {
   "cell_type": "markdown",
   "metadata": {},
   "source": [
    "## 6) 觀察訓練結果"
   ]
  },
  {
   "cell_type": "code",
   "execution_count": 101,
   "metadata": {},
   "outputs": [],
   "source": [
    "import matplotlib.pyplot as plt\n",
    "\n",
    "history_dict = history.history\n",
    "history_dict.keys()\n",
    "acc = history_dict['acc']\n",
    "val_acc = history_dict['val_acc']\n",
    "loss = history_dict['loss']\n",
    "val_loss = history_dict['val_loss']\n",
    "epochs_ = range(1,len(acc)+1)"
   ]
  },
  {
   "cell_type": "code",
   "execution_count": 102,
   "metadata": {},
   "outputs": [
    {
     "data": {
      "image/png": "[encoded data removed]",
      "text/plain": [
       "<Figure size 432x288 with 1 Axes>"
      ]
     },
     "metadata": {
      "needs_background": "light"
     },
     "output_type": "display_data"
    }
   ],
   "source": [
    "plt.plot(epochs_ , loss , label = 'training loss')\n",
    "plt.plot(epochs_ , val_loss , label = 'val los')\n",
    "plt.title('training and val loss')\n",
    "plt.xlabel('epochs')\n",
    "plt.ylabel('loss')\n",
    "plt.legend()\n",
    "plt.show()"
   ]
  },
  {
   "cell_type": "code",
   "execution_count": 103,
   "metadata": {},
   "outputs": [
    {
     "data": {
      "image/png": "[encoded data removed]",
      "text/plain": [
       "<Figure size 432x288 with 1 Axes>"
      ]
     },
     "metadata": {
      "needs_background": "light"
     },
     "output_type": "display_data"
    }
   ],
   "source": [
    "plt.clf()\n",
    "plt.plot(epochs_ , acc , label='train accuracy')\n",
    "plt.plot(epochs_ , val_acc , label = 'val accuracy')\n",
    "plt.title('train and val acc')\n",
    "plt.xlabel('epochs')\n",
    "plt.ylabel('acc')\n",
    "plt.legend()\n",
    "plt.show()"
   ]
  },
  {
   "cell_type": "markdown",
   "metadata": {},
   "source": [
    "## 測試"
   ]
  },
  {
   "cell_type": "code",
   "execution_count": 104,
   "metadata": {},
   "outputs": [
    {
     "name": "stdout",
     "output_type": "stream",
     "text": [
      "2/2 [==============================] - 0s 2ms/step\n",
      "0.9736842105263158\n"
     ]
    }
   ],
   "source": [
    "from sklearn.metrics import accuracy_score\n",
    "\n",
    "label=np.argmax(y_test,axis=1)\n",
    "pred =  np.argmax(model.predict(X_test), axis=1)\n",
    "print(accuracy_score(label, pred))"
   ]
  },
  {
   "cell_type": "code",
   "execution_count": null,
   "metadata": {},
   "outputs": [],
   "source": []
  }
 ],
 "metadata": {
  "kernelspec": {
   "display_name": "Python 3",
   "language": "python",
   "name": "python3"
  },
  "language_info": {
   "codemirror_mode": {
    "name": "ipython",
    "version": 3
   },
   "file_extension": ".py",
   "mimetype": "text/x-python",
   "name": "python",
   "nbconvert_exporter": "python",
   "pygments_lexer": "ipython3",
   "version": "3.7.6"
  }
 },
 "nbformat": 4,
 "nbformat_minor": 4
}
