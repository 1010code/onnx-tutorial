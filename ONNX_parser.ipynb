{
 "cells": [
  {
   "cell_type": "markdown",
   "metadata": {},
   "source": [
    "# 解析 ONNX"
   ]
  },
  {
   "cell_type": "markdown",
   "metadata": {},
   "source": [
    "## 1. ONNX API 解析"
   ]
  },
  {
   "cell_type": "code",
   "execution_count": 3,
   "metadata": {},
   "outputs": [
    {
     "name": "stdout",
     "output_type": "stream",
     "text": [
      "graph torch-jit-export (\n",
      "  %data[FLOAT, 3x1]\n",
      ") initializers (\n",
      "  %linear.bias[FLOAT, 1]\n",
      "  %linear.weight[FLOAT, 1x1]\n",
      ") {\n",
      "  %output1 = Gemm[alpha = 1, beta = 1, transB = 1](%data, %linear.weight, %linear.bias)\n",
      "  return %output1\n",
      "}\n"
     ]
    }
   ],
   "source": [
    "import onnx\n",
    "\n",
    "# Load the ONNX model\n",
    "model = onnx.load(\"./model/linear.onnx\")\n",
    "\n",
    "# Check that the model is well formed\n",
    "onnx.checker.check_model(model)\n",
    "\n",
    "# Print a human readable representation of the graph\n",
    "print(onnx.helper.printable_graph(model.graph))"
   ]
  },
  {
   "cell_type": "code",
   "execution_count": 4,
   "metadata": {},
   "outputs": [
    {
     "data": {
      "text/plain": [
       "[name: \"output1\"\n",
       "type {\n",
       "  tensor_type {\n",
       "    elem_type: 1\n",
       "    shape {\n",
       "      dim {\n",
       "        dim_value: 3\n",
       "      }\n",
       "      dim {\n",
       "        dim_value: 1\n",
       "      }\n",
       "    }\n",
       "  }\n",
       "}\n",
       "]"
      ]
     },
     "execution_count": 4,
     "metadata": {},
     "output_type": "execute_result"
    }
   ],
   "source": [
    "model.graph.output "
   ]
  },
  {
   "cell_type": "markdown",
   "metadata": {},
   "source": [
    "## 2. Python 解析 ONNX 模型\n",
    "載入 ONNX 模型之後可以得到一個 ModelProto，其內容包含了一些版本訊息以及最重要的重要 GraphProto。\n",
    "- node 為當前模型的所有結點\n",
    "- input 為模型中所有的輸入節點\n",
    "- output 為模型所有的輸出節點\n",
    "- initializer 為模型權重\n",
    "\n",
    "[參考](https://blog.51cto.com/u_15357586/5139273)"
   ]
  },
  {
   "cell_type": "code",
   "execution_count": 6,
   "metadata": {},
   "outputs": [
    {
     "name": "stdout",
     "output_type": "stream",
     "text": [
      "onnx model with info:4\n",
      "onnx model with info:pytorch\n",
      "onnx model with info:1.3\n",
      "input tensor name: data\n",
      "input tensor data type: 1\n",
      "input tensor with shape:[3, 1] \n",
      "output tensor name: output1\n",
      "output tensor data type: 1\n",
      "output tensor with shape:[3, 1] \n",
      "initializer name: linear.bias\n",
      "initializer with shape:[1]\n",
      "initializer with type: <class 'numpy.float32'> \n",
      "initializer first 10 wights:[0.77328515]\n",
      "initializer name: linear.weight\n",
      "initializer with shape:[1, 1]\n",
      "initializer with type: <class 'numpy.float32'> \n",
      "initializer first 10 wights:[1.6597912]\n",
      "node name:\n",
      "node op type:Gemm\n",
      "node with 3 inputs:['data', 'linear.weight', 'linear.bias']\n",
      "node with 1 outputs:['output1']\n",
      "alpha with value:0\n",
      "beta with value:0\n",
      "transB with value:None\n"
     ]
    }
   ],
   "source": [
    "import onnx\n",
    "import numpy as np\n",
    "\n",
    "def onnx_datatype_to_npType(data_type):\n",
    "    if data_type == 1:\n",
    "        return np.float32\n",
    "    else:\n",
    "        raise TypeError(\"don't support data type\")\n",
    "\n",
    "\n",
    "def parser_initializer(initializer):\n",
    "    name = initializer.name\n",
    "    print(f\"initializer name: {name}\")\n",
    "\n",
    "    dims = initializer.dims\n",
    "    shape = [x for x in dims]\n",
    "    print(f\"initializer with shape:{shape}\")\n",
    "\n",
    "    dtype = initializer.data_type\n",
    "    print(f\"initializer with type: {onnx_datatype_to_npType(dtype)} \")\n",
    "    \n",
    "    # print tenth buffer\n",
    "    weights = np.frombuffer(initializer.raw_data, dtype=onnx_datatype_to_npType(dtype))\n",
    "    print(f\"initializer first 10 wights:{weights[:10]}\")\n",
    "\n",
    "\n",
    "\n",
    "def parser_tensor(tensor, use='normal'):\n",
    "    name = tensor.name\n",
    "    print(f\"{use} tensor name: {name}\")\n",
    "\n",
    "    data_type = tensor.type.tensor_type.elem_type\n",
    "    print(f\"{use} tensor data type: {data_type}\")\n",
    "\n",
    "    dims = tensor.type.tensor_type.shape.dim\n",
    "    shape = []\n",
    "    for i, dim in enumerate(dims):\n",
    "        shape.append(dim.dim_value)\n",
    "    print(f\"{use} tensor with shape:{shape} \")\n",
    "\n",
    "\n",
    "def parser_node(node):\n",
    "    def attri_value(attri):\n",
    "        if attri.type == 1:\n",
    "            return attri.i\n",
    "        elif attri.type == 7:\n",
    "            return list(attri.ints)\n",
    "        \n",
    "    name = node.name\n",
    "    print(f\"node name:{name}\")\n",
    "\n",
    "    opType = node.op_type\n",
    "    print(f\"node op type:{opType}\")\n",
    "\n",
    "    inputs = list(node.input)\n",
    "    print(f\"node with {len(inputs)} inputs:{inputs}\")\n",
    "\n",
    "    outputs = list(node.output)\n",
    "    print(f\"node with {len(outputs)} outputs:{outputs}\")\n",
    "    \n",
    "    attributes = node.attribute\n",
    "    for attri in attributes:\n",
    "        name = attri.name\n",
    "        value = attri_value(attri)\n",
    "        print(f\"{name} with value:{value}\")\n",
    "\n",
    "\n",
    "def parser_info(onnx_model):\n",
    "    ir_version = onnx_model.ir_version\n",
    "    producer_name = onnx_model.producer_name\n",
    "    producer_version = onnx_model.producer_version\n",
    "    for info in [ir_version, producer_name, producer_version]:\n",
    "        print(\"onnx model with info:{}\".format(info))\n",
    "\n",
    "def parser_inputs(onnx_graph):\n",
    "    inputs = onnx_graph.input\n",
    "    for input in inputs:\n",
    "        parser_tensor(input, 'input')\n",
    "\n",
    "def parser_outputs(onnx_graph):\n",
    "    outputs = onnx_graph.output\n",
    "    for output in outputs:\n",
    "        parser_tensor(output, 'output')\n",
    "\n",
    "def parser_graph_initializers(onnx_graph):\n",
    "    initializers = onnx_graph.initializer\n",
    "    for initializer in initializers:\n",
    "        parser_initializer(initializer)\n",
    "\n",
    "\n",
    "def parser_graph_nodes(onnx_graph):\n",
    "    nodes = onnx_graph.node\n",
    "    for node in nodes:\n",
    "        parser_node(node)\n",
    "        t = 1\n",
    "\n",
    "def onnx_parser():\n",
    "    model_path = './model/tf_model.onnx'\n",
    "    model = onnx.load(model_path)\n",
    "\n",
    "    # 0.\n",
    "    parser_info(model)\n",
    "    graph = model.graph\n",
    "    # 1.\n",
    "    parser_inputs(graph)\n",
    "    # 2. \n",
    "    parser_outputs(graph)\n",
    "    # 3.\n",
    "    parser_graph_initializers(graph)\n",
    "    # 4. \n",
    "    parser_graph_nodes(graph)\n",
    "\n",
    "if __name__ == '__main__':\n",
    "    onnx_parser()"
   ]
  },
  {
   "cell_type": "code",
   "execution_count": null,
   "metadata": {},
   "outputs": [],
   "source": []
  }
 ],
 "metadata": {
  "kernelspec": {
   "display_name": "Python 3",
   "language": "python",
   "name": "python3"
  },
  "language_info": {
   "codemirror_mode": {
    "name": "ipython",
    "version": 3
   },
   "file_extension": ".py",
   "mimetype": "text/x-python",
   "name": "python",
   "nbconvert_exporter": "python",
   "pygments_lexer": "ipython3",
   "version": "3.7.6"
  }
 },
 "nbformat": 4,
 "nbformat_minor": 4
}
